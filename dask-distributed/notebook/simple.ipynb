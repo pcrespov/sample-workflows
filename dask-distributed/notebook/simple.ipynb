{
 "cells": [
  {
   "cell_type": "code",
   "execution_count": null,
   "id": "absent-mediterranean",
   "metadata": {},
   "outputs": [],
   "source": [
    "from dask.distributed import Client, progress\n",
    "client = Client()\n",
    "client"
   ]
  },
  {
   "cell_type": "code",
   "execution_count": null,
   "id": "previous-register",
   "metadata": {},
   "outputs": [],
   "source": [
    "import time\n",
    "import random\n",
    "\n",
    "def inc(x):\n",
    "    time.sleep(random.random())\n",
    "    return x + 1\n",
    "\n",
    "   \n",
    "def add(x, y):\n",
    "    time.sleep(random.random())\n",
    "    return x + y \n",
    "\n",
    "\n",
    "def run(rjg):\n",
    "    imiport sidecar\n",
    "    sidecar.run()\n",
    "\n",
    "# --------------------\n",
    "# Workers install libs\n",
    "#\n",
    "def do_some_work(x):\n",
    "    # this library only exists in worker\n",
    "    import worklib     \n",
    "    return worklib.doit(x)"
   ]
  },
  {
   "cell_type": "code",
   "execution_count": null,
   "id": "differential-flexibility",
   "metadata": {},
   "outputs": [],
   "source": [
    "%%time\n",
    "zs = []\n",
    "for i in range(256):\n",
    "    x = client.submit(inc, i) \n",
    "    y = client.submit(do_some_work, x)  \n",
    "    z = client.submit(add, x, y)\n",
    "    \n",
    "    \n",
    "    zs.append(z)\n",
    "    \n",
    "total = client.submit(sum, zs)\n",
    "\n",
    "futures = zs + [total,]\n",
    "progress(futures)"
   ]
  },
  {
   "cell_type": "code",
   "execution_count": null,
   "id": "sufficient-confidentiality",
   "metadata": {},
   "outputs": [],
   "source": [
    "y"
   ]
  },
  {
   "cell_type": "code",
   "execution_count": null,
   "id": "fixed-result",
   "metadata": {},
   "outputs": [],
   "source": [
    "del futures  # clear out some old work"
   ]
  },
  {
   "cell_type": "code",
   "execution_count": null,
   "id": "original-vector",
   "metadata": {},
   "outputs": [],
   "source": []
  }
 ],
 "metadata": {
  "kernelspec": {
   "display_name": "Python 3",
   "language": "python",
   "name": "python3"
  },
  "language_info": {
   "codemirror_mode": {
    "name": "ipython",
    "version": 3
   },
   "file_extension": ".py",
   "mimetype": "text/x-python",
   "name": "python",
   "nbconvert_exporter": "python",
   "pygments_lexer": "ipython3",
   "version": "3.8.6"
  }
 },
 "nbformat": 4,
 "nbformat_minor": 5
}
